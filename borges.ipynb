{
 "cells": [
  {
   "cell_type": "code",
   "execution_count": 2,
   "metadata": {},
   "outputs": [],
   "source": [
    "import pickle"
   ]
  },
  {
   "cell_type": "code",
   "execution_count": 14,
   "metadata": {},
   "outputs": [],
   "source": [
    "with open('./datasets/sents.pkl', 'rb') as f:\n",
    "   sentiments = pickle.load(f)"
   ]
  },
  {
   "cell_type": "code",
   "execution_count": 15,
   "metadata": {},
   "outputs": [
    {
     "data": {
      "text/html": [
       "<div>\n",
       "<style scoped>\n",
       "    .dataframe tbody tr th:only-of-type {\n",
       "        vertical-align: middle;\n",
       "    }\n",
       "\n",
       "    .dataframe tbody tr th {\n",
       "        vertical-align: top;\n",
       "    }\n",
       "\n",
       "    .dataframe thead th {\n",
       "        text-align: right;\n",
       "    }\n",
       "</style>\n",
       "<table border=\"1\" class=\"dataframe\">\n",
       "  <thead>\n",
       "    <tr style=\"text-align: right;\">\n",
       "      <th></th>\n",
       "      <th>sentence</th>\n",
       "      <th>sent_score</th>\n",
       "    </tr>\n",
       "  </thead>\n",
       "  <tbody>\n",
       "    <tr>\n",
       "      <th>0</th>\n",
       "      <td>Los años le han dejado unas palabras en guaran...</td>\n",
       "      <td>0.0000</td>\n",
       "    </tr>\n",
       "    <tr>\n",
       "      <th>1</th>\n",
       "      <td>No es bebedor, pero suele achisparse los sábad...</td>\n",
       "      <td>0.0000</td>\n",
       "    </tr>\n",
       "    <tr>\n",
       "      <th>2</th>\n",
       "      <td>No tiene catre. Duerme sobre el recado y no sa...</td>\n",
       "      <td>0.0000</td>\n",
       "    </tr>\n",
       "    <tr>\n",
       "      <th>3</th>\n",
       "      <td>Nunca lo ascenderán. No debe llamar la atenció...</td>\n",
       "      <td>0.0018</td>\n",
       "    </tr>\n",
       "    <tr>\n",
       "      <th>4</th>\n",
       "      <td>Es amigo de un indio.</td>\n",
       "      <td>0.0497</td>\n",
       "    </tr>\n",
       "    <tr>\n",
       "      <th>5</th>\n",
       "      <td>FIN</td>\n",
       "      <td>0.5069</td>\n",
       "    </tr>\n",
       "  </tbody>\n",
       "</table>\n",
       "</div>"
      ],
      "text/plain": [
       "                                            sentence  sent_score\n",
       "0  Los años le han dejado unas palabras en guaran...      0.0000\n",
       "1  No es bebedor, pero suele achisparse los sábad...      0.0000\n",
       "2  No tiene catre. Duerme sobre el recado y no sa...      0.0000\n",
       "3  Nunca lo ascenderán. No debe llamar la atenció...      0.0018\n",
       "4                              Es amigo de un indio.      0.0497\n",
       "5                                                FIN      0.5069"
      ]
     },
     "execution_count": 15,
     "metadata": {},
     "output_type": "execute_result"
    }
   ],
   "source": [
    "sentiments[3]\n"
   ]
  },
  {
   "cell_type": "code",
   "execution_count": 16,
   "metadata": {},
   "outputs": [],
   "source": [
    "with open('./datasets/borges_full_texts.pkl', 'rb') as f:\n",
    "   borges = pickle.load(f)"
   ]
  },
  {
   "cell_type": "code",
   "execution_count": 19,
   "metadata": {},
   "outputs": [
    {
     "data": {
      "text/plain": [
       "'Abel y Caín se encontraron después de la muerte de Abel. Caminaban por el desierto y se reconocieron desde lejos, porque los dos eran muy altos. Los hermanos se sentaron en la tierra, hicieron un fuego y comieron. Guardaban silencio, a la manera de la gente cansada cuando declina el día. En el cielo asomaba alguna estrella, que aún no había recibido su nombre. A la luz de las llamas, Caín advirtió en la frente de Abel la marca de la piedra y dejó caer el pan que estaba por llevarse a la boca y pidió que le fuera perdonado su crimen. Abel contestó: —¿Tú me has matado o yo te he matado? Ya no recuerdo; aquí estamos juntos como antes. —Ahora sé que en verdad me has perdonado —dijo Caín—, porque olvidar es perdonar. Yo trataré también de olvidar. Abel dijo despacio: —Así es. Mientras dura el remordimiento dura la culpa. FIN'"
      ]
     },
     "execution_count": 19,
     "metadata": {},
     "output_type": "execute_result"
    }
   ],
   "source": [
    "#borges.head()\n",
    "texts = borges[\"text\"]\n",
    "texts.iloc[0]"
   ]
  },
  {
   "cell_type": "code",
   "execution_count": 3,
   "metadata": {},
   "outputs": [],
   "source": [
    "with open('./datasets/ocampo_full_texts.pkl', 'rb') as f:\n",
    "   ocampo = pickle.load(f)"
   ]
  },
  {
   "cell_type": "code",
   "execution_count": 8,
   "metadata": {},
   "outputs": [
    {
     "data": {
      "text/plain": [
       "{'author': 'Silvina Ocampo',\n",
       " 'metadata': '[Cuento - Texto completo.]',\n",
       " 'title': 'Cielo de claraboyas'}"
      ]
     },
     "execution_count": 8,
     "metadata": {},
     "output_type": "execute_result"
    }
   ],
   "source": [
    "ocampo[\"text_metadata\"].iloc[0]"
   ]
  }
 ],
 "metadata": {
  "kernelspec": {
   "display_name": "Python 3",
   "language": "python",
   "name": "python3"
  },
  "language_info": {
   "codemirror_mode": {
    "name": "ipython",
    "version": 3
   },
   "file_extension": ".py",
   "mimetype": "text/x-python",
   "name": "python",
   "nbconvert_exporter": "python",
   "pygments_lexer": "ipython3",
   "version": "3.6.9"
  }
 },
 "nbformat": 4,
 "nbformat_minor": 4
}
