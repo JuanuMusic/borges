{
 "cells": [
  {
   "cell_type": "code",
   "execution_count": 4,
   "metadata": {
    "colab": {
     "base_uri": "https://localhost:8080/",
     "height": 591
    },
    "colab_type": "code",
    "id": "pXQRiPWAEifM",
    "outputId": "af42a2ea-d597-44ce-a0ae-0cf34771b50b"
   },
   "outputs": [],
   "source": [
    "#!pip install pyLDAvis\n",
    "import gensim\n",
    "import pyLDAvis\n",
    "from pyLDAvis import gensim as gensimvis\n",
    "from pyLDAvis import sklearn\n",
    "import spacy\n",
    "\n",
    "from sklearn.decomposition import TruncatedSVD\n",
    "from sklearn.decomposition import LatentDirichletAllocation\n",
    "from sklearn.feature_extraction.text import CountVectorizer\n",
    "from sklearn.feature_extraction.text import TfidfVectorizer \n",
    "from sklearn.preprocessing import Normalizer\n",
    "import pandas as pd\n",
    "import numpy as np\n",
    "import pprint as pp\n",
    "import pickle"
   ]
  },
  {
   "cell_type": "code",
   "execution_count": 5,
   "metadata": {
    "colab": {},
    "colab_type": "code",
    "id": "kbTl1ZbLFSn5"
   },
   "outputs": [],
   "source": [
    "with open('./datasets/borges_full_texts.pkl', 'rb') as f:\n",
    "   data = pickle.load(f)"
   ]
  },
  {
   "cell_type": "code",
   "execution_count": 6,
   "metadata": {
    "colab": {
     "base_uri": "https://localhost:8080/",
     "height": 400
    },
    "colab_type": "code",
    "id": "iXYo-ZxxFm-r",
    "outputId": "89580ceb-92ac-4210-c4e5-2c09c48e5210"
   },
   "outputs": [
    {
     "data": {
      "text/html": [
       "<div>\n",
       "<style scoped>\n",
       "    .dataframe tbody tr th:only-of-type {\n",
       "        vertical-align: middle;\n",
       "    }\n",
       "\n",
       "    .dataframe tbody tr th {\n",
       "        vertical-align: top;\n",
       "    }\n",
       "\n",
       "    .dataframe thead th {\n",
       "        text-align: right;\n",
       "    }\n",
       "</style>\n",
       "<table border=\"1\" class=\"dataframe\">\n",
       "  <thead>\n",
       "    <tr style=\"text-align: right;\">\n",
       "      <th></th>\n",
       "      <th>link</th>\n",
       "      <th>text_metadata</th>\n",
       "      <th>text</th>\n",
       "    </tr>\n",
       "  </thead>\n",
       "  <tbody>\n",
       "    <tr>\n",
       "      <th>0</th>\n",
       "      <td>https://ciudadseva.com/texto/abel-y-cain-borges/</td>\n",
       "      <td>{'title': 'Abel y Caín', 'metadata': '[Minicue...</td>\n",
       "      <td>Abel y Caín se encontraron después de la muert...</td>\n",
       "    </tr>\n",
       "    <tr>\n",
       "      <th>1</th>\n",
       "      <td>https://ciudadseva.com/texto/adrogue/</td>\n",
       "      <td>{'title': 'Adrogué', 'metadata': '[Minicuento ...</td>\n",
       "      <td>Era muy lindo, un pueblo laberíntico. A veces,...</td>\n",
       "    </tr>\n",
       "    <tr>\n",
       "      <th>2</th>\n",
       "      <td>https://ciudadseva.com/texto/alguien-sonara/</td>\n",
       "      <td>{'title': 'Alguien soñará', 'metadata': '[Mini...</td>\n",
       "      <td>¿Qué soñará el indescifrable futuro? Soñará qu...</td>\n",
       "    </tr>\n",
       "    <tr>\n",
       "      <th>3</th>\n",
       "      <td>https://ciudadseva.com/texto/andres-armoa/</td>\n",
       "      <td>{'title': 'Andrés Armoa', 'metadata': '[Minicu...</td>\n",
       "      <td>Los años le han dejado unas palabras en guaran...</td>\n",
       "    </tr>\n",
       "    <tr>\n",
       "      <th>4</th>\n",
       "      <td>https://ciudadseva.com/texto/argumentum-ornith...</td>\n",
       "      <td>{'title': 'Argumentum ornithologicum', 'metada...</td>\n",
       "      <td>Cierro los ojos y veo una bandada de pájaros. ...</td>\n",
       "    </tr>\n",
       "  </tbody>\n",
       "</table>\n",
       "</div>"
      ],
      "text/plain": [
       "                                                link  \\\n",
       "0   https://ciudadseva.com/texto/abel-y-cain-borges/   \n",
       "1              https://ciudadseva.com/texto/adrogue/   \n",
       "2       https://ciudadseva.com/texto/alguien-sonara/   \n",
       "3         https://ciudadseva.com/texto/andres-armoa/   \n",
       "4  https://ciudadseva.com/texto/argumentum-ornith...   \n",
       "\n",
       "                                       text_metadata  \\\n",
       "0  {'title': 'Abel y Caín', 'metadata': '[Minicue...   \n",
       "1  {'title': 'Adrogué', 'metadata': '[Minicuento ...   \n",
       "2  {'title': 'Alguien soñará', 'metadata': '[Mini...   \n",
       "3  {'title': 'Andrés Armoa', 'metadata': '[Minicu...   \n",
       "4  {'title': 'Argumentum ornithologicum', 'metada...   \n",
       "\n",
       "                                                text  \n",
       "0  Abel y Caín se encontraron después de la muert...  \n",
       "1  Era muy lindo, un pueblo laberíntico. A veces,...  \n",
       "2  ¿Qué soñará el indescifrable futuro? Soñará qu...  \n",
       "3  Los años le han dejado unas palabras en guaran...  \n",
       "4  Cierro los ojos y veo una bandada de pájaros. ...  "
      ]
     },
     "execution_count": 6,
     "metadata": {},
     "output_type": "execute_result"
    }
   ],
   "source": [
    "data.head()"
   ]
  },
  {
   "cell_type": "code",
   "execution_count": 7,
   "metadata": {
    "colab": {},
    "colab_type": "code",
    "id": "qOZXACE6Frjd"
   },
   "outputs": [],
   "source": [
    "corpus_vectorizado = CountVectorizer( max_features = 40000, ngram_range=(1,3), min_df=3, max_df=0.4)"
   ]
  },
  {
   "cell_type": "code",
   "execution_count": 8,
   "metadata": {
    "colab": {},
    "colab_type": "code",
    "id": "vt3HSEcRFvQ8"
   },
   "outputs": [],
   "source": [
    "lda = LatentDirichletAllocation(n_components = 10,learning_method='batch',max_iter=100)"
   ]
  },
  {
   "cell_type": "code",
   "execution_count": 9,
   "metadata": {
    "colab": {},
    "colab_type": "code",
    "id": "4MgSV9TWHFrw"
   },
   "outputs": [],
   "source": [
    "corpus_para_lda = corpus_vectorizado.fit_transform(data.text)"
   ]
  },
  {
   "cell_type": "code",
   "execution_count": 10,
   "metadata": {
    "colab": {},
    "colab_type": "code",
    "id": "Qk2SAKeOMIIR"
   },
   "outputs": [],
   "source": [
    "def imprimir_palabras_mas_relevantes(model, feature_names, n_top_words):\n",
    "    for topic_idx, topic in enumerate(model.components_):\n",
    "        message = \"Topic #%d: \" % topic_idx\n",
    "        message += \" \".join([feature_names[i]\n",
    "                             for i in topic.argsort()[:-n_top_words - 1:-1]])\n",
    "        print(message)\n",
    "    print()"
   ]
  },
  {
   "cell_type": "code",
   "execution_count": 11,
   "metadata": {
    "colab": {
     "base_uri": "https://localhost:8080/",
     "height": 151
    },
    "colab_type": "code",
    "id": "FcJ0qhfrUm_P",
    "outputId": "8e84c40b-41e9-4337-9184-54851e14eaa1"
   },
   "outputs": [
    {
     "data": {
      "text/plain": [
       "LatentDirichletAllocation(batch_size=128, doc_topic_prior=None,\n",
       "                          evaluate_every=-1, learning_decay=0.7,\n",
       "                          learning_method='batch', learning_offset=10.0,\n",
       "                          max_doc_update_iter=100, max_iter=100,\n",
       "                          mean_change_tol=0.001, n_components=10, n_jobs=None,\n",
       "                          perp_tol=0.1, random_state=None,\n",
       "                          topic_word_prior=None, total_samples=1000000.0,\n",
       "                          verbose=0)"
      ]
     },
     "execution_count": 11,
     "metadata": {},
     "output_type": "execute_result"
    }
   ],
   "source": [
    "lda.fit(corpus_para_lda)"
   ]
  },
  {
   "cell_type": "code",
   "execution_count": 14,
   "metadata": {
    "colab": {
     "base_uri": "https://localhost:8080/",
     "height": 255
    },
    "colab_type": "code",
    "id": "zj10HVG3U8nZ",
    "outputId": "b332a51a-7624-4fdc-a886-3c3ad84ffc22"
   },
   "outputs": [
    {
     "name": "stdout",
     "output_type": "stream",
     "text": [
      "\n",
      "Topics in LDA model:\n",
      "Topic #0: juan dios judas contra han pudo no hay obra capítulo otras\n",
      "Topic #1: hacer la casa mujer ahí caín el menor menor dijo que estaban habían\n",
      "Topic #2: niño ya no soy no soy pasan hacer para que tengo en mi estaba en\n",
      "Topic #3: tan destino inglés que me murió pedro dios como si que yo la cara\n",
      "Topic #4: padre sueño luego pensó los ojos vio habían tarde que había recordó\n",
      "Topic #5: vi todos los libros que me biblioteca infinito mis universo no hay arena\n",
      "Topic #6: que es letras biblioteca libros número oro primer un solo la biblioteca de oro\n",
      "Topic #7: cruz mujer iba te negro no le cuchillo la noche el otro la puerta\n",
      "Topic #8: azar dios usted crimen segundo secta tan la secta cuarto vio\n",
      "Topic #9: quijote laberinto jardín don quijote don usted cervantes un laberinto jardín de de mi\n",
      "\n"
     ]
    }
   ],
   "source": [
    "print(\"\\nTopics in LDA model:\")\n",
    "tf_feature_names = corpus_vectorizado.get_feature_names()\n",
    "n_top_words = 10\n",
    "imprimir_palabras_mas_relevantes(lda, tf_feature_names, n_top_words)"
   ]
  }
 ],
 "metadata": {
  "colab": {
   "name": "Ejemplo LDA twitter.ipynb",
   "provenance": []
  },
  "kernelspec": {
   "display_name": "Python 3",
   "language": "python",
   "name": "python3"
  },
  "language_info": {
   "codemirror_mode": {
    "name": "ipython",
    "version": 3
   },
   "file_extension": ".py",
   "mimetype": "text/x-python",
   "name": "python",
   "nbconvert_exporter": "python",
   "pygments_lexer": "ipython3",
   "version": "3.6.9"
  }
 },
 "nbformat": 4,
 "nbformat_minor": 1
}
